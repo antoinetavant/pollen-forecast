{
 "cells": [
  {
   "cell_type": "code",
   "execution_count": null,
   "metadata": {},
   "outputs": [],
   "source": [
    "import requests\n",
    "import pandas as pd"
   ]
  },
  {
   "cell_type": "code",
   "execution_count": null,
   "metadata": {},
   "outputs": [],
   "source": [
    "base_url = \"https://public.opendatasoft.com/api/explore/v2.1/catalog/datasets/georef-france-commune/exports/csv?lang=fr&timezone=Europe%2FBerlin&use_labels=true&delimiter=%3B\"\n",
    "response = requests.get(base_url)\n",
    "response.raise_for_status()"
   ]
  },
  {
   "cell_type": "code",
   "execution_count": null,
   "metadata": {},
   "outputs": [],
   "source": [
    "filename = \"georef-france-commune.csv\"\n",
    "with open(filename, \"wb\") as f:\n",
    "    f.write(response.content)\n",
    "print(f\"Downloaded {filename}\")"
   ]
  },
  {
   "cell_type": "code",
   "execution_count": null,
   "metadata": {},
   "outputs": [],
   "source": [
    "data.columns"
   ]
  },
  {
   "cell_type": "code",
   "execution_count": null,
   "metadata": {},
   "outputs": [],
   "source": [
    "data = pd.read_csv(\n",
    "    filename,\n",
    "    delimiter=\";\",\n",
    "    usecols=[\n",
    "        \"Geo Point\",\n",
    "        \"Nom Officiel Département\",\n",
    "        \"Nom Officiel Commune\",\n",
    "        # \"Code Canton Ville\",\n",
    "    ],\n",
    ")"
   ]
  },
  {
   "cell_type": "code",
   "execution_count": null,
   "metadata": {},
   "outputs": [],
   "source": [
    "data.to_parquet(\"georef-france-commune.parquet\")"
   ]
  },
  {
   "cell_type": "code",
   "execution_count": null,
   "metadata": {},
   "outputs": [],
   "source": [
    "data.head()"
   ]
  },
  {
   "cell_type": "code",
   "execution_count": null,
   "metadata": {},
   "outputs": [],
   "source": [
    "data.query(\"`Nom Officiel Commune` == 'Craponne'\")"
   ]
  },
  {
   "cell_type": "code",
   "execution_count": null,
   "metadata": {},
   "outputs": [],
   "source": [
    "data.to_csv(\"georef-france-commune.csv\", index=False)"
   ]
  },
  {
   "cell_type": "markdown",
   "metadata": {},
   "source": [
    "# Reindex from grid points"
   ]
  },
  {
   "cell_type": "code",
   "execution_count": null,
   "metadata": {},
   "outputs": [],
   "source": [
    "from pollen_forecast.copernicus import PollenForcastCopernicusGeneric"
   ]
  },
  {
   "cell_type": "code",
   "execution_count": null,
   "metadata": {},
   "outputs": [],
   "source": [
    "my_pollen = PollenForcastCopernicusGeneric(\n",
    "    north=51.70, south=41.87, east=8.74, west=-5.33, prefix=\"./france_territory/\"\n",
    ")\n",
    "my_pollen.get_pollen_data()"
   ]
  },
  {
   "cell_type": "code",
   "execution_count": null,
   "metadata": {},
   "outputs": [],
   "source": [
    "import xarray as xr\n",
    "\n",
    "data = xr.open_dataset(my_pollen.filename)\n",
    "data.coords[\"longitude\"] = (data.coords[\"longitude\"] + 180) % 360 - 180\n",
    "data_sorted = data.sortby(\"longitude\")\n",
    "data_sorted"
   ]
  },
  {
   "cell_type": "code",
   "execution_count": null,
   "metadata": {},
   "outputs": [],
   "source": [
    "import cartopy\n",
    "from cartopy import crs as ccrs\n",
    "import matplotlib.pyplot as plt\n",
    "\n",
    "fig, ax = plt.subplots(figsize=(10, 10), subplot_kw={\"projection\": ccrs.PlateCarree()})\n",
    "data_sorted[\"gpg_conc\"].isel(time=0, level=0).plot(\n",
    "    ax=ax,\n",
    "    transform=ccrs.PlateCarree(),\n",
    ")\n",
    "\n",
    "ax.coastlines()\n",
    "# add borders\n",
    "ax.add_feature(cartopy.feature.BORDERS, linestyle=\":\")"
   ]
  },
  {
   "cell_type": "code",
   "execution_count": null,
   "metadata": {},
   "outputs": [],
   "source": [
    "communes = pd.read_csv(\"georef-france-commune.csv\")\n",
    "communes.head()"
   ]
  },
  {
   "cell_type": "code",
   "execution_count": null,
   "metadata": {},
   "outputs": [],
   "source": [
    "# find the neasrest grip point of the Xarray Dataset for each commune\n",
    "def find_nearest_grip_point(lat, long, data):\n",
    "    print(f\"Finding nearest grip point for {lat}, {long}\")\n",
    "    point = data.sel(latitude=lat, longitude=long, method=\"nearest\")\n",
    "    try:\n",
    "        lat_nearest = point.latitude.values\n",
    "        long_nearest = point.longitude.values\n",
    "    except IndexError:\n",
    "        print(f\"Error with {lat}, {long}\")\n",
    "        print(point.latitude.values)\n",
    "        print(point.longitude.values)\n",
    "        return None, None\n",
    "\n",
    "    return lat_nearest, long_nearest\n",
    "\n",
    "\n",
    "communes[\"latitude\"], communes[\"longitude\"] = zip(\n",
    "    *communes.apply(\n",
    "        lambda x: find_nearest_grip_point(\n",
    "            x[\"Geo Point\"].split(\",\")[0], x[\"Geo Point\"].split(\",\")[1], data_sorted\n",
    "        ),\n",
    "        axis=1,\n",
    "    )\n",
    ")\n",
    "communes.head()"
   ]
  },
  {
   "cell_type": "code",
   "execution_count": null,
   "metadata": {},
   "outputs": [],
   "source": [
    "communes.to_csv(\"georef-france-commune.csv\", index=False)"
   ]
  },
  {
   "cell_type": "code",
   "execution_count": null,
   "metadata": {},
   "outputs": [],
   "source": [
    "ax = (\n",
    "    data_sorted[\"gpg_conc\"]\n",
    "    .sel(level=0, longitude=2.35, latitude=48.85, method=\"nearest\")\n",
    "    .plot()\n",
    ")"
   ]
  },
  {
   "cell_type": "code",
   "execution_count": null,
   "metadata": {},
   "outputs": [],
   "source": [
    "data_sorted[\"gpg_conc\"].sel(\n",
    "    level=0, latitude=4.85, longitude=45.75, method=\"nearest\"\n",
    ").plot()"
   ]
  },
  {
   "cell_type": "code",
   "execution_count": null,
   "metadata": {},
   "outputs": [],
   "source": []
  }
 ],
 "metadata": {
  "kernelspec": {
   "display_name": "pollen-forecast",
   "language": "python",
   "name": "python3"
  },
  "language_info": {
   "codemirror_mode": {
    "name": "ipython",
    "version": 3
   },
   "file_extension": ".py",
   "mimetype": "text/x-python",
   "name": "python",
   "nbconvert_exporter": "python",
   "pygments_lexer": "ipython3",
   "version": "3.10.12"
  }
 },
 "nbformat": 4,
 "nbformat_minor": 2
}
