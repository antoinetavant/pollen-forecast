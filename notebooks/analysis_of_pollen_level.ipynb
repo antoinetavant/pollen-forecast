{
 "cells": [
  {
   "cell_type": "markdown",
   "metadata": {},
   "source": [
    "# Study of the relations between the forecast pollen concentration and the level of risk \n",
    "\n",
    "The level of risk is tekkeb from https://www.pollens.fr/les-risques/risques-par-ville/29/9/2024"
   ]
  },
  {
   "cell_type": "code",
   "execution_count": null,
   "metadata": {},
   "outputs": [],
   "source": [
    "import xarray as xr\n",
    "import numpy as np\n",
    "import matplotlib.pyplot as plt\n",
    "import pandas as pd"
   ]
  },
  {
   "cell_type": "code",
   "execution_count": null,
   "metadata": {},
   "outputs": [],
   "source": [
    "pollen_forecast = (\n",
    "    xr.open_dataset(\"./grass_pollen_2023-03-01_2023-09-30.nc\")\n",
    "    .mean([\"latitude\", \"longitude\", \"level\"])\n",
    "    .to_dataframe()\n",
    "    .dropna()\n",
    ")\n",
    "pollen_forecast.index += pd.Timestamp(\"2023-03-01\")\n",
    "pollen_forecast = pollen_forecast.resample(\"D\").max()"
   ]
  },
  {
   "cell_type": "code",
   "execution_count": null,
   "metadata": {},
   "outputs": [],
   "source": [
    "pollen_forecast.plot()"
   ]
  },
  {
   "cell_type": "code",
   "execution_count": null,
   "metadata": {},
   "outputs": [],
   "source": [
    "level = pd.read_csv(\n",
    "    \"./impact_graminees_2023.csv\", sep=\";\", index_col=0, parse_dates=True\n",
    ")\n",
    "level"
   ]
  },
  {
   "cell_type": "code",
   "execution_count": null,
   "metadata": {},
   "outputs": [],
   "source": [
    "df = pd.concat([pollen_forecast, level], axis=1).dropna()\n",
    "df.head()"
   ]
  },
  {
   "cell_type": "code",
   "execution_count": null,
   "metadata": {},
   "outputs": [],
   "source": [
    "df.plot.scatter(x=\"gpg_conc\", y=\"value\")"
   ]
  },
  {
   "cell_type": "code",
   "execution_count": null,
   "metadata": {},
   "outputs": [],
   "source": [
    "import seaborn as sns"
   ]
  },
  {
   "cell_type": "code",
   "execution_count": null,
   "metadata": {},
   "outputs": [],
   "source": [
    "sns.boxenplot(data=df, x=\"value\", y=\"gpg_conc\")"
   ]
  },
  {
   "cell_type": "markdown",
   "metadata": {},
   "source": [
    "# Conclusion\n",
    "\n",
    "The forecast pollen concentration is a good indicator of the level of risk. The higher the concentration, the higher the risk.\n",
    "However, the classification of the risk level is not direct with the concentration.\n",
    "The classes overlap and the risk level is not a direct function of the concentration.\n",
    "\n",
    "We coul train a model to predict the risk level from concentration features for each day (mean, max, etc.) but the model would not be very accurate.\n",
    "Ideally, we need to know how the risk level is computed to build a model that predicts it."
   ]
  }
 ],
 "metadata": {
  "kernelspec": {
   "display_name": "pollen-forecast",
   "language": "python",
   "name": "python3"
  },
  "language_info": {
   "codemirror_mode": {
    "name": "ipython",
    "version": 3
   },
   "file_extension": ".py",
   "mimetype": "text/x-python",
   "name": "python",
   "nbconvert_exporter": "python",
   "pygments_lexer": "ipython3",
   "version": "3.10.12"
  }
 },
 "nbformat": 4,
 "nbformat_minor": 2
}
