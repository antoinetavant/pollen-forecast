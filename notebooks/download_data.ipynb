{
 "cells": [
  {
   "cell_type": "markdown",
   "metadata": {},
   "source": [
    "# Download Today's Data"
   ]
  },
  {
   "cell_type": "code",
   "execution_count": null,
   "metadata": {},
   "outputs": [],
   "source": [
    "%load_ext autoreload\n",
    "%autoreload 2"
   ]
  },
  {
   "cell_type": "code",
   "execution_count": null,
   "metadata": {},
   "outputs": [],
   "source": [
    "import pandas as pd\n",
    "import matplotlib.pyplot as plt\n",
    "import xarray as xr\n",
    "from pathlib import Path\n",
    "from src.pollen_forecast.copernicus import PollenForcastCopernicusGeneric"
   ]
  },
  {
   "cell_type": "code",
   "execution_count": null,
   "metadata": {},
   "outputs": [],
   "source": [
    "today = pd.Timestamp.today().strftime(\"%Y-%m-%d\")\n",
    "today"
   ]
  },
  {
   "cell_type": "code",
   "execution_count": null,
   "metadata": {},
   "outputs": [],
   "source": [
    "api_wrapper = PollenForcastCopernicusGeneric(start=today)\n",
    "filename = api_wrapper.get_pollen_data()\n",
    "filename"
   ]
  },
  {
   "cell_type": "code",
   "execution_count": null,
   "metadata": {},
   "outputs": [],
   "source": [
    "ds_today = xr.open_dataset(filename)\n",
    "ds_today"
   ]
  },
  {
   "cell_type": "code",
   "execution_count": null,
   "metadata": {},
   "outputs": [],
   "source": [
    "ds_today[\"gpg_conc\"].mean([\"longitude\", \"latitude\", \"level\"]).plot()"
   ]
  },
  {
   "cell_type": "markdown",
   "metadata": {},
   "source": [
    "# Download 2023 historical forcasts"
   ]
  },
  {
   "cell_type": "code",
   "execution_count": null,
   "metadata": {},
   "outputs": [],
   "source": [
    "api_wrapper_2023 = PollenForcastCopernicusGeneric(\n",
    "    start=\"2023-03-01\", end=\"2023-09-30\", leadtime_hour=[str(i) for i in range(0, 24)]\n",
    ")\n",
    "api_wrapper_2023.c.sleep_max = (\n",
    "    10  # reduce the sleep time to 10 seconds for this long request\n",
    ")"
   ]
  },
  {
   "cell_type": "markdown",
   "metadata": {},
   "source": [
    "Available variables are\n",
    "\n",
    "- 'alder_pollen'\n",
    "- 'ammonia'\n",
    "- 'birch_pollen'\n",
    "- 'carbon_monoxide'\n",
    "- 'dust'\n",
    "- 'formaldehyde'\n",
    "- 'glyoxal'\n",
    "- 'grass_pollen'\n",
    "- 'mugwort_pollen'\n",
    "- 'nitrogen_dioxide'\n",
    "- 'nitrogen_monoxide'\n",
    "- 'non_methane_vocs'\n",
    "- 'olive_pollen'\n",
    "- 'ozone'\n",
    "- 'particulate_matter_10um'\n",
    "- 'particulate_matter_2.5um'\n",
    "- 'peroxyacyl_nitrates'\n",
    "- 'pm10_sea_salt_dry'\n",
    "- 'pm10_wildfires'\n",
    "- 'pm2.5_total_organic_matter'\n",
    "- 'ragweed_pollen'\n",
    "- 'residential_elementary_carbon'\n",
    "- 'secondary_inorganic_aerosol'\n",
    "- 'sulphur_dioxide'\n",
    "- 'total_elementary_carbon',\n"
   ]
  },
  {
   "cell_type": "code",
   "execution_count": null,
   "metadata": {},
   "outputs": [],
   "source": [
    "if Path(api_wrapper_2023.filename).exists():\n",
    "    print(\"File already exists\")\n",
    "else:\n",
    "    api_wrapper_2023.get_pollen_data()"
   ]
  },
  {
   "cell_type": "code",
   "execution_count": null,
   "metadata": {},
   "outputs": [],
   "source": [
    "filename_2023 = \"./2023_previsions_history.nc\"\n",
    "filename_2024 = filename"
   ]
  },
  {
   "cell_type": "code",
   "execution_count": null,
   "metadata": {},
   "outputs": [],
   "source": [
    "ds_2023 = xr.open_dataset(api_wrapper_2023.filename)\n",
    "ds_2023"
   ]
  },
  {
   "cell_type": "code",
   "execution_count": null,
   "metadata": {},
   "outputs": [],
   "source": [
    "mean_gpg_2023 = ds_2023.mean(\n",
    "    dim=[\"latitude\", \"longitude\", \"level\"]\n",
    ").gpg_conc.to_dataframe()\n",
    "start_date = \"2023-03-01\"\n",
    "mean_gpg_2023.index += pd.Timestamp(api_wrapper_2023.date_start)"
   ]
  },
  {
   "cell_type": "code",
   "execution_count": null,
   "metadata": {},
   "outputs": [],
   "source": [
    "mean_gpg_2023.plot()"
   ]
  },
  {
   "cell_type": "code",
   "execution_count": null,
   "metadata": {},
   "outputs": [],
   "source": [
    "ds_2024 = ds_today\n",
    "mean_gpg_2024 = ds_2024.mean(\n",
    "    dim=[\"latitude\", \"longitude\", \"level\"]\n",
    ").gpg_conc.to_dataframe()\n",
    "start_date = \"2024-05-26\"\n",
    "mean_gpg_2024.index += pd.Timestamp(start_date)\n",
    "mean_gpg_2024_in_2023 = mean_gpg_2024.copy()\n",
    "mean_gpg_2024_in_2023.index = mean_gpg_2024.index - pd.DateOffset(years=1)"
   ]
  },
  {
   "cell_type": "code",
   "execution_count": null,
   "metadata": {},
   "outputs": [],
   "source": [
    "fig, ax = plt.subplots(figsize=(10, 6))\n",
    "mean_gpg_2023.plot(ax=ax, label=\"2023\")\n",
    "mean_gpg_2024_in_2023.plot(ax=ax, label=\"2024\")"
   ]
  },
  {
   "cell_type": "code",
   "execution_count": null,
   "metadata": {},
   "outputs": [],
   "source": [
    "mean_gpg_2024_in_2023"
   ]
  },
  {
   "cell_type": "code",
   "execution_count": null,
   "metadata": {},
   "outputs": [],
   "source": []
  }
 ],
 "metadata": {
  "kernelspec": {
   "display_name": "pollen-forecast",
   "language": "python",
   "name": "python3"
  },
  "language_info": {
   "codemirror_mode": {
    "name": "ipython",
    "version": 3
   },
   "file_extension": ".py",
   "mimetype": "text/x-python",
   "name": "python",
   "nbconvert_exporter": "python",
   "pygments_lexer": "ipython3",
   "version": "3.10.12"
  }
 },
 "nbformat": 4,
 "nbformat_minor": 2
}
